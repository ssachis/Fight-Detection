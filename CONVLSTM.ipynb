{
 "cells": [
  {
   "cell_type": "code",
   "execution_count": 1,
   "id": "8c9e5178",
   "metadata": {},
   "outputs": [],
   "source": [
    "import os\n",
    "import cv2\n",
    "import pafy\n",
    "import math\n",
    "import random\n",
    "import numpy as np\n",
    "import datetime as dt\n",
    "import tensorflow as tf\n",
    "from collections import deque\n",
    "import matplotlib.pyplot as plt\n",
    "\n",
    "from moviepy.editor import *\n",
    "%matplotlib inline\n",
    "from sklearn.model_selection import train_test_split\n",
    "from tensorflow.keras.layers import *\n",
    "from tensorflow.keras.models import Sequential\n",
    "from tensorflow.keras.utils import to_categorical\n",
    "from tensorflow.keras.callbacks import EarlyStopping\n",
    "from tensorflow.keras.utils import plot_model"
   ]
  },
  {
   "cell_type": "code",
   "execution_count": 2,
   "id": "5d87dcf2",
   "metadata": {},
   "outputs": [],
   "source": [
    "seed_constant=27\n",
    "np.random.seed(seed_constant)\n",
    "random.seed(seed_constant)\n",
    "tf.random.set_seed(seed_constant)"
   ]
  },
  {
   "cell_type": "code",
   "execution_count": 3,
   "id": "784e4214",
   "metadata": {},
   "outputs": [],
   "source": [
    "IMAGE_HEIGHT,IMAGE_WIDTH=64,64#dimensions of the frame\n",
    "SEQUENCE_LENGTH=10#no owf frames of a video which would be fed\n",
    "DATASET_DIR=r'C:\\Users\\ASUS\\OneDrive\\Desktop\\majorproject\\hockey'\n"
   ]
  },
  {
   "cell_type": "code",
   "execution_count": 4,
   "id": "b60c2229",
   "metadata": {},
   "outputs": [],
   "source": [
    "CLASSES_LIST=[\"FIGHT\",\"NOFIGHT\"]"
   ]
  },
  {
   "cell_type": "code",
   "execution_count": 5,
   "id": "a3cfd599",
   "metadata": {},
   "outputs": [],
   "source": [
    "def frames_extraction(video_path):\n",
    "    frames_list=[]\n",
    "    video_reader=cv2.VideoCapture(video_path)\n",
    "    video_frames_count=int(video_reader.get(cv2.CAP_PROP_FRAME_COUNT))\n",
    "    \n",
    "    skip_frames_window=max(int(video_frames_count/SEQUENCE_LENGTH),1)#the interval after which frrames get added\n",
    "    #iterate thru frames\n",
    "    for frame_counter in range(SEQUENCE_LENGTH):\n",
    "        video_reader.set(cv2.CAP_PROP_POS_FRAMES,frame_counter*skip_frames_window)\n",
    "        success,frame=video_reader.read()\n",
    "        if not success:\n",
    "            break\n",
    "        resized_frame=cv2.resize(frame,(IMAGE_HEIGHT,IMAGE_WIDTH))\n",
    "        normalized_frame=resized_frame/255\n",
    "        frames_list.append(normalized_frame)\n",
    "    video_reader.release()\n",
    "   \n",
    "    return frames_list"
   ]
  },
  {
   "cell_type": "code",
   "execution_count": 6,
   "id": "b986e404",
   "metadata": {},
   "outputs": [],
   "source": [
    "import os\n",
    "frames2=0\n",
    "def create_dataset():\n",
    "    features = []\n",
    "    labels = []\n",
    "    video_files_paths = []\n",
    "    for class_index, class_name in enumerate(CLASSES_LIST):\n",
    "        print(f'Extracting Data of Class: {class_name}')\n",
    "        files_list = os.listdir(os.path.join(DATASET_DIR, class_name))\n",
    "        \n",
    "        for file_name in files_list:\n",
    "            video_file_path = os.path.join(DATASET_DIR, class_name, file_name)\n",
    "\n",
    "            frames = frames_extraction(video_file_path)\n",
    "           \n",
    "            \n",
    "\n",
    "            if len(frames) == SEQUENCE_LENGTH:\n",
    "\n",
    "                features.append(frames)\n",
    "                labels.append(class_index)\n",
    "                video_files_paths.append(video_file_path)\n",
    "\n",
    "    features = np.asarray(features)\n",
    "    labels = np.array(labels)\n",
    "    frames2=frames\n",
    "    \n",
    "    return features, labels, video_files_paths\n",
    "       "
   ]
  },
  {
   "cell_type": "code",
   "execution_count": 8,
   "id": "f81eb7b1",
   "metadata": {},
   "outputs": [
    {
     "name": "stdout",
     "output_type": "stream",
     "text": [
      "Extracting Data of Class: FIGHT\n",
      "Extracting Data of Class: NOFIGHT\n"
     ]
    }
   ],
   "source": [
    "features, labels, video_files_paths = create_dataset()\n"
   ]
  },
  {
   "cell_type": "code",
   "execution_count": 9,
   "id": "d7d54136",
   "metadata": {},
   "outputs": [],
   "source": [
    "one_hot_encoded_labels = to_categorical(labels)"
   ]
  },
  {
   "cell_type": "code",
   "execution_count": 10,
   "id": "6554a9b9",
   "metadata": {},
   "outputs": [],
   "source": [
    "features_train, features_test, labels_train, labels_test = train_test_split(features, one_hot_encoded_labels,\n",
    "                                                                            test_size = 0.25, shuffle = True,\n",
    "                                                                            random_state=seed_constant\n",
    "                                                                            )"
   ]
  },
  {
   "cell_type": "code",
   "execution_count": 20,
   "id": "5a4f615e",
   "metadata": {},
   "outputs": [
    {
     "data": {
      "text/plain": [
       "(750, 2)"
      ]
     },
     "execution_count": 20,
     "metadata": {},
     "output_type": "execute_result"
    }
   ],
   "source": [
    "labels_train.shape"
   ]
  },
  {
   "cell_type": "code",
   "execution_count": 21,
   "id": "9d32f9cb",
   "metadata": {},
   "outputs": [
    {
     "name": "stdout",
     "output_type": "stream",
     "text": [
      "64\n"
     ]
    }
   ],
   "source": [
    "print(IMAGE_HEIGHT)"
   ]
  },
  {
   "cell_type": "code",
   "execution_count": 18,
   "id": "7f9133fb",
   "metadata": {},
   "outputs": [],
   "source": [
    "def create_convlstm_model():\n",
    "  \n",
    "    model = Sequential()\n",
    "\n",
    "  \n",
    "    model.add(ConvLSTM2D(filters = 4, kernel_size = (3, 3), activation = 'tanh',data_format = \"channels_last\",\n",
    "                         recurrent_dropout=0.25, return_sequences=True, input_shape = (SEQUENCE_LENGTH,\n",
    "                                                                                      IMAGE_HEIGHT, IMAGE_WIDTH, 3)))\n",
    "    \n",
    "    model.add(MaxPooling3D(pool_size=(1, 2, 2), padding='same', data_format='channels_last'))\n",
    "    model.add(TimeDistributed(Dropout(0.25)))\n",
    "    \n",
    "    model.add(ConvLSTM2D(filters = 8, kernel_size = (3, 3), activation = 'tanh', data_format = \"channels_last\",\n",
    "                         recurrent_dropout=0.25, return_sequences=True))\n",
    "    \n",
    "    model.add(MaxPooling3D(pool_size=(1, 2, 2), padding='same', data_format='channels_last'))\n",
    "    model.add(TimeDistributed(Dropout(0.25)))\n",
    "    \n",
    "    model.add(ConvLSTM2D(filters = 14, kernel_size = (3, 3), activation = 'tanh', data_format = \"channels_last\",\n",
    "                         recurrent_dropout=0.25, return_sequences=True))\n",
    "    \n",
    "    model.add(MaxPooling3D(pool_size=(1, 2, 2), padding='same', data_format='channels_last'))\n",
    "\n",
    "   \n",
    "    model.add(Flatten()) \n",
    "    \n",
    "    model.add(Dense(len(CLASSES_LIST), activation = \"sigmoid\"))\n",
    "    \n",
    "    \n",
    "    \n",
    "    model.summary()\n",
    "    return model"
   ]
  },
  {
   "cell_type": "code",
   "execution_count": 19,
   "id": "6a3921af",
   "metadata": {},
   "outputs": [
    {
     "name": "stdout",
     "output_type": "stream",
     "text": [
      "Model: \"sequential_2\"\n",
      "_________________________________________________________________\n",
      "Layer (type)                 Output Shape              Param #   \n",
      "=================================================================\n",
      "conv_lst_m2d_6 (ConvLSTM2D)  (None, 10, 62, 62, 4)     1024      \n",
      "_________________________________________________________________\n",
      "max_pooling3d_6 (MaxPooling3 (None, 10, 31, 31, 4)     0         \n",
      "_________________________________________________________________\n",
      "time_distributed_4 (TimeDist (None, 10, 31, 31, 4)     0         \n",
      "_________________________________________________________________\n",
      "conv_lst_m2d_7 (ConvLSTM2D)  (None, 10, 29, 29, 8)     3488      \n",
      "_________________________________________________________________\n",
      "max_pooling3d_7 (MaxPooling3 (None, 10, 15, 15, 8)     0         \n",
      "_________________________________________________________________\n",
      "time_distributed_5 (TimeDist (None, 10, 15, 15, 8)     0         \n",
      "_________________________________________________________________\n",
      "conv_lst_m2d_8 (ConvLSTM2D)  (None, 10, 13, 13, 14)    11144     \n",
      "_________________________________________________________________\n",
      "max_pooling3d_8 (MaxPooling3 (None, 10, 7, 7, 14)      0         \n",
      "_________________________________________________________________\n",
      "flatten_2 (Flatten)          (None, 6860)              0         \n",
      "_________________________________________________________________\n",
      "dense_2 (Dense)              (None, 2)                 13722     \n",
      "=================================================================\n",
      "Total params: 29,378\n",
      "Trainable params: 29,378\n",
      "Non-trainable params: 0\n",
      "_________________________________________________________________\n"
     ]
    }
   ],
   "source": [
    "convlstm_model = create_convlstm_model()"
   ]
  },
  {
   "cell_type": "code",
   "execution_count": 20,
   "id": "1cb8dd80",
   "metadata": {},
   "outputs": [
    {
     "name": "stdout",
     "output_type": "stream",
     "text": [
      "Epoch 1/70\n",
      "150/150 [==============================] - 78s 467ms/step - loss: 0.5253 - accuracy: 0.7283 - val_loss: 0.3854 - val_accuracy: 0.8200\n",
      "Epoch 2/70\n",
      "150/150 [==============================] - 76s 505ms/step - loss: 0.3111 - accuracy: 0.8833 - val_loss: 0.3307 - val_accuracy: 0.8667\n",
      "Epoch 3/70\n",
      "150/150 [==============================] - 79s 527ms/step - loss: 0.2742 - accuracy: 0.9150 - val_loss: 0.3598 - val_accuracy: 0.8467\n",
      "Epoch 4/70\n",
      "150/150 [==============================] - 70s 465ms/step - loss: 0.2322 - accuracy: 0.9100 - val_loss: 0.3468 - val_accuracy: 0.8733\n",
      "Epoch 5/70\n",
      "150/150 [==============================] - 64s 428ms/step - loss: 0.2184 - accuracy: 0.9200 - val_loss: 0.3770 - val_accuracy: 0.8800\n",
      "Epoch 6/70\n",
      "150/150 [==============================] - 64s 425ms/step - loss: 0.2021 - accuracy: 0.9300 - val_loss: 0.3465 - val_accuracy: 0.8667\n",
      "Epoch 7/70\n",
      "150/150 [==============================] - 64s 426ms/step - loss: 0.1705 - accuracy: 0.9483 - val_loss: 0.3719 - val_accuracy: 0.8533\n",
      "Epoch 8/70\n",
      "150/150 [==============================] - 64s 424ms/step - loss: 0.1770 - accuracy: 0.9400 - val_loss: 0.4159 - val_accuracy: 0.8400\n",
      "Epoch 9/70\n",
      "150/150 [==============================] - 62s 413ms/step - loss: 0.1499 - accuracy: 0.9400 - val_loss: 0.3689 - val_accuracy: 0.8800\n",
      "Epoch 10/70\n",
      "150/150 [==============================] - 64s 424ms/step - loss: 0.1337 - accuracy: 0.9533 - val_loss: 0.3284 - val_accuracy: 0.8867\n",
      "Epoch 11/70\n",
      "150/150 [==============================] - 64s 429ms/step - loss: 0.1346 - accuracy: 0.9567 - val_loss: 0.3991 - val_accuracy: 0.8667\n",
      "Epoch 12/70\n",
      "150/150 [==============================] - 65s 433ms/step - loss: 0.1095 - accuracy: 0.9683 - val_loss: 0.3259 - val_accuracy: 0.8933\n",
      "Epoch 13/70\n",
      "150/150 [==============================] - 65s 433ms/step - loss: 0.0852 - accuracy: 0.9700 - val_loss: 0.4502 - val_accuracy: 0.8933\n",
      "Epoch 14/70\n",
      "150/150 [==============================] - 65s 435ms/step - loss: 0.0830 - accuracy: 0.9750 - val_loss: 0.3980 - val_accuracy: 0.8867\n",
      "Epoch 15/70\n",
      "150/150 [==============================] - 65s 433ms/step - loss: 0.0797 - accuracy: 0.9717 - val_loss: 0.3777 - val_accuracy: 0.9067\n",
      "Epoch 16/70\n",
      "150/150 [==============================] - 65s 436ms/step - loss: 0.1141 - accuracy: 0.9550 - val_loss: 0.3918 - val_accuracy: 0.8933\n",
      "Epoch 17/70\n",
      "150/150 [==============================] - 66s 437ms/step - loss: 0.0601 - accuracy: 0.9800 - val_loss: 0.4071 - val_accuracy: 0.9000\n",
      "Epoch 18/70\n",
      "150/150 [==============================] - 66s 440ms/step - loss: 0.0337 - accuracy: 0.9950 - val_loss: 0.4600 - val_accuracy: 0.8867\n",
      "Epoch 19/70\n",
      "150/150 [==============================] - 69s 459ms/step - loss: 0.0529 - accuracy: 0.9850 - val_loss: 0.4750 - val_accuracy: 0.8933\n",
      "Epoch 20/70\n",
      "150/150 [==============================] - 62s 413ms/step - loss: 0.0344 - accuracy: 0.9900 - val_loss: 0.5012 - val_accuracy: 0.9133\n",
      "Epoch 21/70\n",
      "150/150 [==============================] - 62s 415ms/step - loss: 0.0301 - accuracy: 0.9900 - val_loss: 0.4315 - val_accuracy: 0.9000\n",
      "Epoch 22/70\n",
      "150/150 [==============================] - 62s 414ms/step - loss: 0.0326 - accuracy: 0.9867 - val_loss: 0.5392 - val_accuracy: 0.9000\n"
     ]
    }
   ],
   "source": [
    "early_stopping_callback = EarlyStopping(monitor = 'val_loss', patience = 10, mode = 'min', restore_best_weights = True)\n",
    "\n",
    "convlstm_model.compile(loss = 'binary_crossentropy', optimizer = 'Adam', metrics = [\"accuracy\"])\n",
    "convlstm_model_training_history = convlstm_model.fit(x = features_train, y = labels_train, epochs = 70, batch_size = 4,\n",
    "                                                     shuffle = True, validation_split = 0.25, \n",
    "                                                     callbacks = [early_stopping_callback])"
   ]
  },
  {
   "cell_type": "code",
   "execution_count": 21,
   "id": "4e537fe9",
   "metadata": {},
   "outputs": [
    {
     "name": "stdout",
     "output_type": "stream",
     "text": [
      "8/8 [==============================] - 3s 400ms/step - loss: 0.2615 - accuracy: 0.9040\n"
     ]
    }
   ],
   "source": [
    "model_evaluation_history = convlstm_model.evaluate(features_test, labels_test)"
   ]
  },
  {
   "cell_type": "code",
   "execution_count": 16,
   "id": "8355eda5",
   "metadata": {},
   "outputs": [
    {
     "name": "stdout",
     "output_type": "stream",
     "text": [
      "[[112  13]\n",
      " [  7 118]]\n",
      "0.921875\n"
     ]
    }
   ],
   "source": [
    "y_pred = convlstm_model.predict_classes(features_test)\n",
    "new_array = to_categorical(y_pred,2)\n",
    "\n",
    "\n",
    "from sklearn.metrics import confusion_matrix\n",
    "print(confusion_matrix(labels_test.argmax(axis=1), new_array.argmax(axis=1)))\n",
    "\n",
    "from sklearn.metrics import f1_score\n",
    "print(f1_score(labels_test.argmax(axis=1), new_array.argmax(axis=1)))"
   ]
  },
  {
   "cell_type": "code",
   "execution_count": 29,
   "id": "9dd2603e",
   "metadata": {},
   "outputs": [],
   "source": [
    "def plot_metric(model_training_history, metric_name_1, metric_name_2, plot_name):\n",
    "  \n",
    "    \n",
    "    metric_value_1 = model_training_history.history[metric_name_1]\n",
    "    metric_value_2 = model_training_history.history[metric_name_2]\n",
    "    \n",
    "    epochs = range(len(metric_value_1))\n",
    "\n",
    "    plt.plot(epochs, metric_value_1, 'blue', label = metric_name_1)\n",
    "    plt.plot(epochs, metric_value_2, 'red', label = metric_name_2)\n",
    "\n",
    "    plt.title(str(plot_name))\n",
    "\n",
    "    plt.legend()"
   ]
  },
  {
   "cell_type": "code",
   "execution_count": null,
   "id": "afd56695",
   "metadata": {},
   "outputs": [],
   "source": [
    "plot_metric(convlstm_model_training_history, 'loss', 'val_loss', 'Total Loss vs Total Validation Loss')"
   ]
  },
  {
   "cell_type": "code",
   "execution_count": null,
   "id": "eb1ccb7f",
   "metadata": {},
   "outputs": [],
   "source": [
    "plot_metric(convlstm_model_training_history, 'accuracy', 'val_accuracy', 'Total accuracy vs Total validation accuracy')"
   ]
  }
 ],
 "metadata": {
  "kernelspec": {
   "display_name": "Python 3 (ipykernel)",
   "language": "python",
   "name": "python3"
  },
  "language_info": {
   "codemirror_mode": {
    "name": "ipython",
    "version": 3
   },
   "file_extension": ".py",
   "mimetype": "text/x-python",
   "name": "python",
   "nbconvert_exporter": "python",
   "pygments_lexer": "ipython3",
   "version": "3.9.12"
  }
 },
 "nbformat": 4,
 "nbformat_minor": 5
}
