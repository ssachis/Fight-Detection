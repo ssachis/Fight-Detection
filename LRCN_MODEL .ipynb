{
 "cells": [
  {
   "cell_type": "code",
   "execution_count": 1,
   "id": "ddbc7b6b",
   "metadata": {},
   "outputs": [],
   "source": [
    "import os\n",
    "import cv2\n",
    "import pafy\n",
    "import math\n",
    "import random\n",
    "import numpy as np\n",
    "import datetime as dt\n",
    "import tensorflow as tf\n",
    "from collections import deque\n",
    "import matplotlib.pyplot as plt\n",
    "\n",
    "from moviepy.editor import *\n",
    "%matplotlib inline\n",
    "from sklearn.model_selection import train_test_split\n",
    "from tensorflow.keras.layers import *\n",
    "from tensorflow.keras.models import Sequential\n",
    "from tensorflow.keras.utils import to_categorical\n",
    "from tensorflow.keras.callbacks import EarlyStopping\n",
    "from tensorflow.keras.utils import plot_model"
   ]
  },
  {
   "cell_type": "code",
   "execution_count": 2,
   "id": "4bcd7975",
   "metadata": {},
   "outputs": [],
   "source": [
    "seed_constant=27\n",
    "np.random.seed(seed_constant)\n",
    "random.seed(seed_constant)\n",
    "tf.random.set_seed(seed_constant)"
   ]
  },
  {
   "cell_type": "code",
   "execution_count": 3,
   "id": "bfccb34e",
   "metadata": {},
   "outputs": [],
   "source": [
    "IMAGE_HEIGHT,IMAGE_WIDTH=64,64#dimensions of the frame\n",
    "SEQUENCE_LENGTH=20#no owf frames of a video which would be fed\n",
    "DATASET_DIR=r'C:\\Users\\ASUS\\OneDrive\\Desktop\\majorproject\\hockey'"
   ]
  },
  {
   "cell_type": "code",
   "execution_count": 4,
   "id": "d2533702",
   "metadata": {},
   "outputs": [],
   "source": [
    "CLASSES_LIST=[\"FIGHT\",\"NOFIGHT\"]"
   ]
  },
  {
   "cell_type": "code",
   "execution_count": 5,
   "id": "cdee8166",
   "metadata": {},
   "outputs": [],
   "source": [
    "def frames_extraction(video_path):\n",
    "    frames_list=[]\n",
    "    video_reader=cv2.VideoCapture(video_path)\n",
    "    video_frames_count=int(video_reader.get(cv2.CAP_PROP_FRAME_COUNT))\n",
    "    \n",
    "    skip_frames_window=max(int(video_frames_count/SEQUENCE_LENGTH),1)#the interval after which frrames get aadded\n",
    "    #iterate thru frames\n",
    "    for frame_counter in range(SEQUENCE_LENGTH):\n",
    "        video_reader.set(cv2.CAP_PROP_POS_FRAMES,frame_counter*skip_frames_window)\n",
    "        success,frame=video_reader.read()\n",
    "        if not success:\n",
    "            break\n",
    "        resized_frame=cv2.resize(frame,(IMAGE_HEIGHT,IMAGE_WIDTH))\n",
    "        normalized_frame=resized_frame/255\n",
    "        frames_list.append(normalized_frame)\n",
    "    video_reader.release()\n",
    "    return frames_list"
   ]
  },
  {
   "cell_type": "code",
   "execution_count": 6,
   "id": "8ca041d0",
   "metadata": {},
   "outputs": [],
   "source": [
    "import os\n",
    "frames2=0\n",
    "def create_dataset():\n",
    "    features = []\n",
    "    labels = []\n",
    "    video_files_paths = []\n",
    "    for class_index, class_name in enumerate(CLASSES_LIST):\n",
    "        print(f'Extracting Data of Class: {class_name}')\n",
    "        files_list = os.listdir(os.path.join(DATASET_DIR, class_name))\n",
    "        \n",
    "        for file_name in files_list:\n",
    "            video_file_path = os.path.join(DATASET_DIR, class_name, file_name)\n",
    "\n",
    "            frames = frames_extraction(video_file_path)\n",
    "         \n",
    "            if len(frames) == SEQUENCE_LENGTH:\n",
    "\n",
    "                features.append(frames)\n",
    "                labels.append(class_index)\n",
    "                video_files_paths.append(video_file_path)\n",
    "\n",
    "    features = np.asarray(features)\n",
    "    labels = np.array(labels)\n",
    "    frames2=frames\n",
    "    \n",
    "    return features, labels, video_files_paths"
   ]
  },
  {
   "cell_type": "code",
   "execution_count": 7,
   "id": "a66843a0",
   "metadata": {},
   "outputs": [
    {
     "name": "stdout",
     "output_type": "stream",
     "text": [
      "Extracting Data of Class: FIGHT\n",
      "Extracting Data of Class: NOFIGHT\n"
     ]
    }
   ],
   "source": [
    "features, labels, video_files_paths = create_dataset()"
   ]
  },
  {
   "cell_type": "code",
   "execution_count": 8,
   "id": "fa903426",
   "metadata": {},
   "outputs": [],
   "source": [
    "one_hot_encoded_labels = to_categorical(labels)"
   ]
  },
  {
   "cell_type": "code",
   "execution_count": 9,
   "id": "29bbbd68",
   "metadata": {},
   "outputs": [],
   "source": [
    "\n",
    "\n",
    "features_train, features_test, labels_train, labels_test = train_test_split(features, one_hot_encoded_labels,\n",
    "                                                                            test_size = 0.25, shuffle = True,\n",
    "                                                                            random_state=seed_constant\n",
    "                                                                            )"
   ]
  },
  {
   "cell_type": "code",
   "execution_count": 12,
   "id": "d2313a4c",
   "metadata": {},
   "outputs": [],
   "source": [
    "\n",
    "def create_LRCN_model():\n",
    "  \n",
    "   \n",
    "\n",
    "    model = Sequential()\n",
    "    \n",
    "    \n",
    "    model.add(TimeDistributed(Conv2D(16, (3, 3), padding='same',activation = 'tanh'),\n",
    "                              input_shape = (SEQUENCE_LENGTH, IMAGE_HEIGHT, IMAGE_WIDTH, 3)))\n",
    "    \n",
    "    model.add(TimeDistributed(MaxPooling2D((4, 4)))) \n",
    "    model.add(TimeDistributed(Dropout(0.25)))\n",
    "    \n",
    "    model.add(TimeDistributed(Conv2D(32, (3, 3), padding='same',activation = 'tanh')))\n",
    "    model.add(TimeDistributed(MaxPooling2D((4, 4))))\n",
    "    model.add(TimeDistributed(Dropout(0.25)))\n",
    "    \n",
    "    model.add(TimeDistributed(Conv2D(64, (3, 3), padding='same',activation = 'tanh')))\n",
    "    model.add(TimeDistributed(MaxPooling2D((2, 2))))\n",
    "    model.add(TimeDistributed(Dropout(0.25)))\n",
    "    \n",
    "    model.add(TimeDistributed(Conv2D(64, (3, 3), padding='same',activation = 'tanh')))\n",
    "    model.add(TimeDistributed(MaxPooling2D((2, 2))))\n",
    "    #model.add(TimeDistributed(Dropout(0.25)))\n",
    "                                      \n",
    "    model.add(TimeDistributed(Flatten()))\n",
    "                                      \n",
    "    model.add(LSTM(32))\n",
    "                                      \n",
    "    model.add(Dense(len(CLASSES_LIST), activation = 'sigmoid'))\n",
    "\n",
    "    model.summary()\n",
    "    \n",
    "    return model"
   ]
  },
  {
   "cell_type": "code",
   "execution_count": 13,
   "id": "d8c43d34",
   "metadata": {},
   "outputs": [
    {
     "name": "stdout",
     "output_type": "stream",
     "text": [
      "Model: \"sequential_1\"\n",
      "_________________________________________________________________\n",
      "Layer (type)                 Output Shape              Param #   \n",
      "=================================================================\n",
      "time_distributed_8 (TimeDist (None, 20, 64, 64, 16)    448       \n",
      "_________________________________________________________________\n",
      "time_distributed_9 (TimeDist (None, 20, 16, 16, 16)    0         \n",
      "_________________________________________________________________\n",
      "time_distributed_10 (TimeDis (None, 20, 16, 16, 16)    0         \n",
      "_________________________________________________________________\n",
      "time_distributed_11 (TimeDis (None, 20, 16, 16, 32)    4640      \n",
      "_________________________________________________________________\n",
      "time_distributed_12 (TimeDis (None, 20, 4, 4, 32)      0         \n",
      "_________________________________________________________________\n",
      "time_distributed_13 (TimeDis (None, 20, 4, 4, 32)      0         \n",
      "_________________________________________________________________\n",
      "time_distributed_14 (TimeDis (None, 20, 4, 4, 64)      18496     \n",
      "_________________________________________________________________\n",
      "time_distributed_15 (TimeDis (None, 20, 2, 2, 64)      0         \n",
      "_________________________________________________________________\n",
      "time_distributed_16 (TimeDis (None, 20, 2, 2, 64)      0         \n",
      "_________________________________________________________________\n",
      "time_distributed_17 (TimeDis (None, 20, 2, 2, 64)      36928     \n",
      "_________________________________________________________________\n",
      "time_distributed_18 (TimeDis (None, 20, 1, 1, 64)      0         \n",
      "_________________________________________________________________\n",
      "time_distributed_19 (TimeDis (None, 20, 64)            0         \n",
      "_________________________________________________________________\n",
      "lstm (LSTM)                  (None, 32)                12416     \n",
      "_________________________________________________________________\n",
      "dense (Dense)                (None, 2)                 66        \n",
      "=================================================================\n",
      "Total params: 72,994\n",
      "Trainable params: 72,994\n",
      "Non-trainable params: 0\n",
      "_________________________________________________________________\n"
     ]
    }
   ],
   "source": [
    "LRCN_model = create_LRCN_model()"
   ]
  },
  {
   "cell_type": "code",
   "execution_count": null,
   "id": "f6e67cdb",
   "metadata": {},
   "outputs": [],
   "source": [
    "early_stopping_callback = EarlyStopping(monitor = 'val_loss', patience = 12, mode = 'min', restore_best_weights = True)\n",
    "\n",
    "LRCN_model.compile(loss = 'binary_crossentropy', optimizer = 'Adam', metrics = [\"accuracy\"])\n",
    "\n",
    "\n",
    "LRCN_model_training_history = LRCN_model.fit(x = features_train, y = labels_train, epochs = 70, batch_size = 4 ,\n",
    "                                             shuffle = True, validation_split = 0.2, callbacks = [early_stopping_callback])"
   ]
  },
  {
   "cell_type": "code",
   "execution_count": null,
   "id": "f1da2d72",
   "metadata": {},
   "outputs": [],
   "source": [
    "model_evaluation_history = LRCN_model.evaluate(features_test, labels_test)"
   ]
  },
  {
   "cell_type": "code",
   "execution_count": null,
   "id": "b5241afd",
   "metadata": {},
   "outputs": [],
   "source": []
  }
 ],
 "metadata": {
  "kernelspec": {
   "display_name": "Python 3 (ipykernel)",
   "language": "python",
   "name": "python3"
  },
  "language_info": {
   "codemirror_mode": {
    "name": "ipython",
    "version": 3
   },
   "file_extension": ".py",
   "mimetype": "text/x-python",
   "name": "python",
   "nbconvert_exporter": "python",
   "pygments_lexer": "ipython3",
   "version": "3.9.12"
  }
 },
 "nbformat": 4,
 "nbformat_minor": 5
}
