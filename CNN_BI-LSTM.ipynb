{
 "cells": [
  {
   "cell_type": "code",
   "execution_count": 66,
   "id": "8f26b332",
   "metadata": {},
   "outputs": [],
   "source": [
    "import os\n",
    "import cv2\n",
    "import pafy\n",
    "import math\n",
    "import random\n",
    "import numpy as np\n",
    "import datetime as dt\n",
    "import tensorflow as tf\n",
    "from collections import deque\n",
    "import matplotlib.pyplot as plt\n",
    "\n",
    "from moviepy.editor import *\n",
    "%matplotlib inline\n",
    "from sklearn.model_selection import train_test_split\n",
    "from tensorflow.keras.layers import *\n",
    "from tensorflow.keras.models import Sequential\n",
    "from tensorflow.keras.utils import to_categorical\n",
    "from tensorflow.keras.callbacks import EarlyStopping\n",
    "from tensorflow.keras.utils import plot_model"
   ]
  },
  {
   "cell_type": "code",
   "execution_count": 67,
   "id": "1a98db92",
   "metadata": {},
   "outputs": [],
   "source": [
    "seed_constant=27\n",
    "np.random.seed(seed_constant)\n",
    "random.seed(seed_constant)\n",
    "tf.random.set_seed(seed_constant)"
   ]
  },
  {
   "cell_type": "code",
   "execution_count": 68,
   "id": "a6c05f2f",
   "metadata": {},
   "outputs": [],
   "source": [
    "IMAGE_HEIGHT,IMAGE_WIDTH=64,64#dimensions of the frame\n",
    "SEQUENCE_LENGTH=10#no owf frames of a video which would be fed\n",
    "DATASET_DIR=r'C:\\Users\\ASUS\\OneDrive\\Desktop\\majorproject\\movie'"
   ]
  },
  {
   "cell_type": "code",
   "execution_count": 128,
   "id": "00f941b3",
   "metadata": {},
   "outputs": [],
   "source": [
    "CLASSES_LIST=[\"FIGHT\",\"NOFIGHT\"]\n",
    "SEQUENCE_LENGTH=40"
   ]
  },
  {
   "cell_type": "code",
   "execution_count": 131,
   "id": "a53670a2",
   "metadata": {},
   "outputs": [],
   "source": [
    "def frames_extraction(video_path):\n",
    "    frames_list=[]\n",
    "    video_reader=cv2.VideoCapture(video_path)\n",
    "    video_frames_count=int(video_reader.get(cv2.CAP_PROP_FRAME_COUNT))\n",
    "   \n",
    "    skip_frames_window=max(int(video_frames_count/SEQUENCE_LENGTH),1)#the interval after which frrames get aadded\n",
    "\n",
    "    for frame_counter in range(SEQUENCE_LENGTH):\n",
    "        video_reader.set(cv2.CAP_PROP_POS_FRAMES,frame_counter*skip_frames_window)\n",
    "        success,frame=video_reader.read()\n",
    "        if not success:\n",
    "            break\n",
    "        resized_frame=cv2.resize(frame,(IMAGE_HEIGHT,IMAGE_WIDTH))\n",
    "        normalized_frame=resized_frame/255\n",
    "        frames_list.append(normalized_frame)\n",
    "    video_reader.release()\n",
    "    return frames_list"
   ]
  },
  {
   "cell_type": "code",
   "execution_count": 132,
   "id": "e1551dbe",
   "metadata": {},
   "outputs": [],
   "source": [
    "import os\n",
    "frames2=0\n",
    "def create_dataset():\n",
    "    features = []\n",
    "    labels = []\n",
    "    video_files_paths = []\n",
    "    for class_index, class_name in enumerate(CLASSES_LIST):\n",
    "        print(f'Extracting Data of Class: {class_name}')\n",
    "        files_list = os.listdir(os.path.join(DATASET_DIR, class_name))\n",
    "        \n",
    "        for file_name in files_list:\n",
    "            video_file_path = os.path.join(DATASET_DIR, class_name, file_name)\n",
    "\n",
    "            frames = frames_extraction(video_file_path)\n",
    "         \n",
    "\n",
    "            if len(frames) == SEQUENCE_LENGTH:\n",
    "\n",
    "                features.append(frames)\n",
    "                labels.append(class_index)\n",
    "                video_files_paths.append(video_file_path)\n",
    "\n",
    "    features = np.asarray(features)\n",
    "    labels = np.array(labels)\n",
    "   \n",
    "    \n",
    "    return features, labels, video_files_paths"
   ]
  },
  {
   "cell_type": "code",
   "execution_count": 133,
   "id": "a460c4c2",
   "metadata": {},
   "outputs": [
    {
     "name": "stdout",
     "output_type": "stream",
     "text": [
      "Extracting Data of Class: FIGHT\n",
      "Extracting Data of Class: NOFIGHT\n"
     ]
    }
   ],
   "source": [
    "features, labels, video_files_paths = create_dataset()"
   ]
  },
  {
   "cell_type": "code",
   "execution_count": 134,
   "id": "46ec7064",
   "metadata": {},
   "outputs": [
    {
     "data": {
      "text/plain": [
       "201"
      ]
     },
     "execution_count": 134,
     "metadata": {},
     "output_type": "execute_result"
    }
   ],
   "source": [
    "len(features)"
   ]
  },
  {
   "cell_type": "code",
   "execution_count": 135,
   "id": "91413885",
   "metadata": {},
   "outputs": [],
   "source": [
    "one_hot_encoded_labels = to_categorical(labels)"
   ]
  },
  {
   "cell_type": "code",
   "execution_count": 136,
   "id": "cd07bcd0",
   "metadata": {},
   "outputs": [],
   "source": [
    "\n",
    "\n",
    "features_train, features_test, labels_train, labels_test = train_test_split(features, one_hot_encoded_labels,\n",
    "                                                                            test_size = 0.25, shuffle = True,\n",
    "                                                                            random_state=seed_constant\n",
    "                                                                            )"
   ]
  },
  {
   "cell_type": "code",
   "execution_count": 137,
   "id": "a3f7ee6f",
   "metadata": {},
   "outputs": [
    {
     "data": {
      "text/plain": [
       "51"
      ]
     },
     "execution_count": 137,
     "metadata": {},
     "output_type": "execute_result"
    }
   ],
   "source": [
    "len(features_test)"
   ]
  },
  {
   "cell_type": "code",
   "execution_count": 138,
   "id": "500fce77",
   "metadata": {},
   "outputs": [],
   "source": [
    "def create_cnnbilstm_model():\n",
    "  \n",
    "   \n",
    "\n",
    "    model = Sequential()\n",
    "    \n",
    "    \n",
    "    model.add(TimeDistributed(Conv2D(16, (3, 3), padding='same',activation = 'tanh'),\n",
    "                              input_shape = (SEQUENCE_LENGTH, IMAGE_HEIGHT, IMAGE_WIDTH, 3)))\n",
    "  \n",
    "    model.add(TimeDistributed(MaxPooling2D((4, 4)))) \n",
    "    model.add(TimeDistributed(Dropout(0.25)))\n",
    "    \n",
    "    model.add(TimeDistributed(Conv2D(64, (3, 3), padding='same',activation = 'tanh')))\n",
    "    model.add(TimeDistributed(MaxPooling2D((4, 4))))\n",
    "    model.add(TimeDistributed(Dropout(0.25)))\n",
    "    \n",
    "    model.add(TimeDistributed(Conv2D(64, (3, 3), padding='same',activation = 'tanh')))\n",
    "    model.add(TimeDistributed(MaxPooling2D((4, 4))))\n",
    "\n",
    "                                      \n",
    "    model.add(TimeDistributed(Flatten()))\n",
    "                                      \n",
    "                 \n",
    "  \n",
    "                            \n",
    "     \n",
    "    lstm_fw = LSTM(units=32)\n",
    "    lstm_bw = LSTM(units=32, go_backwards = True)\n",
    "    model.add(Bidirectional(lstm_fw, backward_layer = lstm_bw))\n",
    "\n",
    "    model.add(Dense(2, activation = 'sigmoid'))\n",
    "\n",
    
    "\n",
    "    # Display the models summary.\n",
    "    model.summary()\n",
    "    \n",
    "    # Return the constructed LRCN model.\n",
    "    return model"
   ]
  },
  {
   "cell_type": "code",
   "execution_count": 139,
   "id": "99ac4872",
   "metadata": {},
   "outputs": [
    {
     "name": "stdout",
     "output_type": "stream",
     "text": [
      "Model: \"sequential_9\"\n",
      "_________________________________________________________________\n",
      "Layer (type)                 Output Shape              Param #   \n",
      "=================================================================\n",
      "time_distributed_81 (TimeDis (None, 40, 64, 64, 16)    448       \n",
      "_________________________________________________________________\n",
      "time_distributed_82 (TimeDis (None, 40, 16, 16, 16)    0         \n",
      "_________________________________________________________________\n",
      "time_distributed_83 (TimeDis (None, 40, 16, 16, 16)    0         \n",
      "_________________________________________________________________\n",
      "time_distributed_84 (TimeDis (None, 40, 16, 16, 64)    9280      \n",
      "_________________________________________________________________\n",
      "time_distributed_85 (TimeDis (None, 40, 4, 4, 64)      0         \n",
      "_________________________________________________________________\n",
      "time_distributed_86 (TimeDis (None, 40, 4, 4, 64)      0         \n",
      "_________________________________________________________________\n",
      "time_distributed_87 (TimeDis (None, 40, 4, 4, 64)      36928     \n",
      "_________________________________________________________________\n",
      "time_distributed_88 (TimeDis (None, 40, 1, 1, 64)      0         \n",
      "_________________________________________________________________\n",
      "time_distributed_89 (TimeDis (None, 40, 64)            0         \n",
      "_________________________________________________________________\n",
      "bidirectional_9 (Bidirection (None, 64)                24832     \n",
      "_________________________________________________________________\n",
      "dense_9 (Dense)              (None, 2)                 130       \n",
      "=================================================================\n",
      "Total params: 71,618\n",
      "Trainable params: 71,618\n",
      "Non-trainable params: 0\n",
      "_________________________________________________________________\n"
     ]
    }
   ],
   "source": [
    "cb_model = create_cnnbilstm_model()"
   ]
  },
  {
   "cell_type": "code",
   "execution_count": 140,
   "id": "b2b5f9c3",
   "metadata": {},
   "outputs": [
    {
     "name": "stdout",
     "output_type": "stream",
     "text": [
      "Epoch 1/5\n",
      "30/30 [==============================] - 9s 161ms/step - loss: 0.6459 - accuracy: 0.6750 - val_loss: 0.5187 - val_accuracy: 0.8333\n",
      "Epoch 2/5\n",
      "30/30 [==============================] - 4s 143ms/step - loss: 0.3518 - accuracy: 0.8750 - val_loss: 0.3845 - val_accuracy: 0.8000\n",
      "Epoch 3/5\n",
      "30/30 [==============================] - 4s 147ms/step - loss: 0.2353 - accuracy: 0.9083 - val_loss: 0.3637 - val_accuracy: 0.8333\n",
      "Epoch 4/5\n",
      "30/30 [==============================] - 4s 141ms/step - loss: 0.1702 - accuracy: 0.9417 - val_loss: 0.1506 - val_accuracy: 0.9333\n",
      "Epoch 5/5\n",
      "30/30 [==============================] - 4s 139ms/step - loss: 0.1416 - accuracy: 0.9500 - val_loss: 0.0811 - val_accuracy: 1.0000\n"
     ]
    }
   ],
   "source": [
    "early_stopping_callback = EarlyStopping(monitor = 'val_loss', patience = 12, mode = 'min', restore_best_weights = True)\n",
    " \n",
    "\n",
    "cb_model.compile(loss = 'binary_crossentropy', optimizer = 'Adam', metrics = [\"accuracy\"])\n",
    "\n",
    "\n",
    "cb_model_training_history = cb_model.fit(x = features_train, y = labels_train, epochs = 5, batch_size = 4 ,\n",
    "                                             shuffle = True, validation_split = 0.2, callbacks = [early_stopping_callback])"
   ]
  },
  {
   "cell_type": "code",
   "execution_count": 141,
   "id": "0fd8970f",
   "metadata": {},
   "outputs": [
    {
     "name": "stdout",
     "output_type": "stream",
     "text": [
      "2/2 [==============================] - 1s 200ms/step - loss: 0.0569 - accuracy: 1.0000\n"
     ]
    }
   ],
   "source": [
    "model_evaluation_history = cb_model.evaluate(features_test, labels_test)\n"
   ]
  },
  {
   "cell_type": "code",
   "execution_count": 31,
   "id": "f03bd074",
   "metadata": {},
   "outputs": [
    {
     "name": "stdout",
     "output_type": "stream",
     "text": [
      "8/8 [==============================] - 2s 202ms/step - loss: 0.1855 - accuracy: 0.9440\n"
     ]
    }
   ],
   "source": [
    "model_evaluation_history = cb1_model.evaluate(features_test, labels_test)\n"
   ]
  },
  {
   "cell_type": "markdown",
   "id": "6cb0d6da",
   "metadata": {},
   "source": [
    ""
   ]
  },
  {
   "cell_type": "code",
   "execution_count": 142,
   "id": "3c36338b",
   "metadata": {},
   "outputs": [
    {
     "name": "stdout",
     "output_type": "stream",
     "text": [
      "[[19  0]\n",
      " [ 0 32]]\n",
      "1.0\n"
     ]
    }
   ],
   "source": [
    "y_pred = cb_model.predict_classes(features_test)\n",
    "new_array = to_categorical(y_pred,2)\n",
    "\n",
    "\n",
    "from sklearn.metrics import confusion_matrix\n",
    "print(confusion_matrix(labels_test.argmax(axis=1), new_array.argmax(axis=1)))\n",
    "\n",
    "from sklearn.metrics import f1_score\n",
    "print(f1_score(labels_test.argmax(axis=1), new_array.argmax(axis=1)))"
   ]
  },
  {
   "cell_type": "code",
   "execution_count": 28,
   "id": "79b716c2",
   "metadata": {},
   "outputs": [],
   "source": [
    "def plot_metric(model_training_history, metric_name_1, metric_name_2, plot_name):\n",
    "    metric_value_1 = model_training_history.history[metric_name_1]\n",
    "    metric_value_2 = model_training_history.history[metric_name_2]\n",
    "    epochs = range(len(metric_value_1))\n",
    "\n",
    "    plt.plot(epochs, metric_value_1, 'blue', label = metric_name_1)\n",
    "    plt.plot(epochs, metric_value_2, 'red', label = metric_name_2)\n",
    "\n",
    "    plt.title(str(plot_name))\n",
    "\n",
    "\n",
    "    plt.legend()"
   ]
  },
  {
   "cell_type": "code",
   "execution_count": 29,
   "id": "20429d76",
   "metadata": {},
   "outputs": [
    {
     "data": {
      "image/png": "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\n",
      "text/plain": [
       "<Figure size 432x288 with 1 Axes>"
      ]
     },
     "metadata": {
      "needs_background": "light"
     },
     "output_type": "display_data"
    }
   ],
   "source": [
    "plot_metric(cb1_model_training_history, 'loss', 'val_loss', 'Total Loss vs Total Validation Loss')"
   ]
  },
  {
   "cell_type": "code",
   "execution_count": 30,
   "id": "07e36557",
   "metadata": {},
   "outputs": [
    {
     "data": {
      "image/png": "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\n",
      "text/plain": [
       "<Figure size 432x288 with 1 Axes>"
      ]
     },
     "metadata": {
      "needs_background": "light"
     },
     "output_type": "display_data"
    }
   ],
   "source": [
    "plot_metric(cb1_model_training_history, 'accuracy', 'val_accuracy', 'Total accuracy vs Total validation accuracy')"
   ]
  },
  {
   "cell_type": "markdown",
   "id": "aed8fd24",
   "metadata": {},
   "source": [
    "MOVIES 20 frames "
   ]
  },
  {
   "cell_type": "code",
   "execution_count": 103,
   "id": "111b0e13",
   "metadata": {},
   "outputs": [
    {
     "name": "stdout",
     "output_type": "stream",
     "text": [
      "Epoch 1/20\n",
      "30/30 [==============================] - 7s 134ms/step - loss: 0.6489 - accuracy: 0.6750 - val_loss: 0.5349 - val_accuracy: 0.8667\n",
      "Epoch 2/20\n",
      "30/30 [==============================] - 3s 95ms/step - loss: 0.3684 - accuracy: 0.9000 - val_loss: 0.3536 - val_accuracy: 0.8333\n",
      "Epoch 3/20\n",
      "30/30 [==============================] - 3s 94ms/step - loss: 0.2524 - accuracy: 0.9083 - val_loss: 0.4168 - val_accuracy: 0.8000\n",
      "Epoch 4/20\n",
      "30/30 [==============================] - 3s 101ms/step - loss: 0.1539 - accuracy: 0.9333 - val_loss: 0.2330 - val_accuracy: 0.8667\n",
      "Epoch 5/20\n",
      "30/30 [==============================] - 3s 101ms/step - loss: 0.1161 - accuracy: 0.9500 - val_loss: 0.1178 - val_accuracy: 0.9667\n",
      "Epoch 6/20\n",
      "30/30 [==============================] - 3s 100ms/step - loss: 0.1418 - accuracy: 0.9417 - val_loss: 0.0911 - val_accuracy: 0.9667\n",
      "Epoch 7/20\n",
      "30/30 [==============================] - 3s 89ms/step - loss: 0.0411 - accuracy: 0.9917 - val_loss: 0.1217 - val_accuracy: 0.9333\n",
      "Epoch 8/20\n",
      "30/30 [==============================] - 3s 88ms/step - loss: 0.0183 - accuracy: 1.0000 - val_loss: 0.0799 - val_accuracy: 0.9667\n",
      "Epoch 9/20\n",
      "30/30 [==============================] - 3s 92ms/step - loss: 0.0478 - accuracy: 0.9917 - val_loss: 0.0500 - val_accuracy: 0.9667\n",
      "Epoch 10/20\n",
      "30/30 [==============================] - 3s 91ms/step - loss: 0.0114 - accuracy: 1.0000 - val_loss: 0.0496 - val_accuracy: 0.9667\n",
      "Epoch 11/20\n",
      "30/30 [==============================] - 3s 91ms/step - loss: 0.0064 - accuracy: 1.0000 - val_loss: 0.0715 - val_accuracy: 0.9667\n",
      "Epoch 12/20\n",
      "30/30 [==============================] - 3s 96ms/step - loss: 0.0293 - accuracy: 0.9833 - val_loss: 0.0389 - val_accuracy: 1.0000\n",
      "Epoch 13/20\n",
      "30/30 [==============================] - 3s 100ms/step - loss: 0.0362 - accuracy: 0.9833 - val_loss: 0.0248 - val_accuracy: 1.0000\n",
      "Epoch 14/20\n",
      "30/30 [==============================] - 3s 101ms/step - loss: 0.0139 - accuracy: 1.0000 - val_loss: 0.0039 - val_accuracy: 1.0000\n",
      "Epoch 15/20\n",
      "30/30 [==============================] - 3s 98ms/step - loss: 0.0028 - accuracy: 1.0000 - val_loss: 0.0033 - val_accuracy: 1.0000\n",
      "Epoch 16/20\n",
      "30/30 [==============================] - 3s 94ms/step - loss: 0.0024 - accuracy: 1.0000 - val_loss: 0.0029 - val_accuracy: 1.0000\n",
      "Epoch 17/20\n",
      "30/30 [==============================] - 3s 99ms/step - loss: 0.0021 - accuracy: 1.0000 - val_loss: 0.0025 - val_accuracy: 1.0000\n",
      "Epoch 18/20\n",
      "30/30 [==============================] - 3s 98ms/step - loss: 0.0019 - accuracy: 1.0000 - val_loss: 0.0023 - val_accuracy: 1.0000\n",
      "Epoch 19/20\n",
      "30/30 [==============================] - 3s 95ms/step - loss: 0.0018 - accuracy: 1.0000 - val_loss: 0.0021 - val_accuracy: 1.0000\n",
      "Epoch 20/20\n",
      "30/30 [==============================] - 3s 99ms/step - loss: 0.0016 - accuracy: 1.0000 - val_loss: 0.0019 - val_accuracy: 1.0000\n"
     ]
    }
   ],
   "source": [
    "early_stopping_callback = EarlyStopping(monitor = 'val_loss', patience = 10, mode = 'min', restore_best_weights = True)\n",
    "\n",
    "cb_model.compile(loss = 'binary_crossentropy', optimizer = 'Adam', metrics = [\"accuracy\"])\n",
    "\n",
    "\n",
    "cb_model_training_history = cb_model.fit(x = features_train, y = labels_train, epochs = 20, batch_size = 4 ,\n",
    "                                             shuffle = True, validation_split = 0.2, callbacks = [early_stopping_callback])"
   ]
  },
  {
   "cell_type": "code",
   "execution_count": 104,
   "id": "266bb881",
   "metadata": {},
   "outputs": [
    {
     "name": "stdout",
     "output_type": "stream",
     "text": [
      "2/2 [==============================] - 0s 118ms/step - loss: 0.0022 - accuracy: 1.0000\n"
     ]
    }
   ],
   "source": [
    "model_evaluation_history = cb_model.evaluate(features_test, labels_test)\n"
   ]
  },

   ],
   "source": [
    "y_pred = cb_model.predict_classes(features_test)\n",
    "new_array = to_categorical(y_pred,2)\n",
    "\n",
    "\n",
    "from sklearn.metrics import confusion_matrix\n",
    "print(confusion_matrix(labels_test.argmax(axis=1), new_array.argmax(axis=1)))\n",
    "\n",
    "from sklearn.metrics import f1_score\n",
    "print(f1_score(labels_test.argmax(axis=1), new_array.argmax(axis=1)))"
   ]
  },
  {
   "cell_type": "code",
   "execution_count": 105,
   "id": "4a58068c",
   "metadata": {},
   "outputs": [
    {
     "data": {
      "image/png": "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\n",
      "text/plain": [
       "<Figure size 432x288 with 1 Axes>"
      ]
     },
     "metadata": {
      "needs_background": "light"
     },
     "output_type": "display_data"
    }
   ],
   "source": [
    "plot_metric(cb_model_training_history, 'loss', 'val_loss', 'Total Loss vs Total Validation Loss')"
   ]
  },
  {
   "cell_type": "code",
   "execution_count": 106,
   "id": "0b89347c",
   "metadata": {},
   "outputs": [
    {
     "data": {
      "image/png": "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\n",
      "text/plain": [
       "<Figure size 432x288 with 1 Axes>"
      ]
     },
     "metadata": {
      "needs_background": "light"
     },
     "output_type": "display_data"
    }
   ],
   "source": [
    "plot_metric(cb_model_training_history, 'accuracy', 'val_accuracy', 'Total accuracy vs Total validation accuracy')"
   ]
  },
  {
   "cell_type": "code",
   "execution_count": null,
   "id": "82f063de",
   "metadata": {},
   "outputs": [],
   "source": []
  }
 ],
 "metadata": {
  "kernelspec": {
   "display_name": "Python 3 (ipykernel)",
   "language": "python",
   "name": "python3"
  },
  "language_info": {
   "codemirror_mode": {
    "name": "ipython",
    "version": 3
   },
   "file_extension": ".py",
   "mimetype": "text/x-python",
   "name": "python",
   "nbconvert_exporter": "python",
   "pygments_lexer": "ipython3",
   "version": "3.9.12"
  }
 },
 "nbformat": 4,
 "nbformat_minor": 5
}
